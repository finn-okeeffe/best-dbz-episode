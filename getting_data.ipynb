{
 "cells": [
  {
   "cell_type": "code",
   "execution_count": 1,
   "id": "5ca5017e",
   "metadata": {},
   "outputs": [],
   "source": [
    "import pandas as pd\n",
    "import numpy as np\n",
    "import matplotlib.pyplot as plt"
   ]
  },
  {
   "cell_type": "markdown",
   "id": "847a6dac",
   "metadata": {},
   "source": [
    "# Data Sources\n",
    "Ideally, I would like to get data from:\n",
    "- Reddit episode discussions\n",
    "    - upvotes\n",
    "    - number of comments\n",
    "    - episode ratings through the surveys in episode discussion threads\n",
    "- IMBD episode ratings\n",
    "- MAL episode polls\n",
    "\n",
    "The reddit upvotes and comments are more a measure of popularity than quality. However the episode ratings and polls are likely to be a good measure. Most people will rate episodes they enjoy highly, and will rate low the episodes they don't like. Some people will rate all episodes highly, and some will rate all lowly, that is just the nature of the internet.\n",
    "\n",
    "In terms of audience, these measures are obviously pretty specific. They are limited to the type of people that participate in these sites, which is a very different audience to the total population that have watched DBZ. Ideally, if one wanted to get a measure of the 'best' DBZ episode with the widest possible sample population, one would include statistics such as TV viewership and media sales. But to keep this project manageable I'll restrict to just the listed data sources. As such, this data will only be representative of the interactive, online, English audience.\n",
    "\n",
    "---\n",
    "\n",
    "# Hypotheses\n",
    "Based off my own internal biases and preconceptions, I reckon we'll get the following:\n",
    "- Top rated episode is either during Gohan's fight with Perfect Cell, or during the Goku vs Vegeta fight in the Saiyan saga.\n",
    "- Top episode in each arc is during the final fight, with the exception of the Frieza saga where it's the episode when Goku achieves super saiyan.\n",
    "- Lowest rated episode will be a filler episode, maybe in the Garlic Jr arc.\n"
   ]
  },
  {
   "cell_type": "markdown",
   "id": "b56e3917",
   "metadata": {},
   "source": [
    "# MyAnimeList (MAL)\n",
    "MAL has an unofficial API that we can use to get data from MAL. First, we can get the episode titles and other info, then hopefully we can use it to get the voting data from the "
   ]
  }
 ],
 "metadata": {
  "kernelspec": {
   "display_name": "Python 3 (ipykernel)",
   "language": "python",
   "name": "python3"
  },
  "language_info": {
   "codemirror_mode": {
    "name": "ipython",
    "version": 3
   },
   "file_extension": ".py",
   "mimetype": "text/x-python",
   "name": "python",
   "nbconvert_exporter": "python",
   "pygments_lexer": "ipython3",
   "version": "3.7.13"
  }
 },
 "nbformat": 4,
 "nbformat_minor": 5
}
